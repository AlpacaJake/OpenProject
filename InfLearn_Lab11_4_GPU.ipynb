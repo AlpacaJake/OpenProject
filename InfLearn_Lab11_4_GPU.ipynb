{
  "nbformat": 4,
  "nbformat_minor": 0,
  "metadata": {
    "colab": {
      "name": "InfLearn Lab11-4_GPU.ipynb",
      "provenance": [],
      "collapsed_sections": [],
      "include_colab_link": true
    },
    "kernelspec": {
      "name": "python3",
      "display_name": "Python 3"
    },
    "accelerator": "GPU"
  },
  "cells": [
    {
      "cell_type": "markdown",
      "metadata": {
        "id": "view-in-github",
        "colab_type": "text"
      },
      "source": [
        "<a href=\"https://colab.research.google.com/github/AlpacaJake/OpenProject/blob/master/InfLearn_Lab11_4_GPU.ipynb\" target=\"_parent\"><img src=\"https://colab.research.google.com/assets/colab-badge.svg\" alt=\"Open In Colab\"/></a>"
      ]
    },
    {
      "cell_type": "markdown",
      "metadata": {
        "id": "qpQaeltOKjLD",
        "colab_type": "text"
      },
      "source": [
        "MNist sample"
      ]
    },
    {
      "cell_type": "code",
      "metadata": {
        "id": "WPnYbzcJIzOZ",
        "colab_type": "code",
        "colab": {}
      },
      "source": [
        ""
      ],
      "execution_count": 0,
      "outputs": []
    },
    {
      "cell_type": "code",
      "metadata": {
        "id": "k93-T0AEKdLz",
        "colab_type": "code",
        "outputId": "d802329b-170b-43d7-b0e8-2cfcd2b57d45",
        "colab": {
          "base_uri": "https://localhost:8080/",
          "height": 64
        }
      },
      "source": [
        "#Lab 11 MNist and Deep Learning CNN\n",
        "import tensorflow as tf\n",
        "\n",
        "from tensorflow.examples.tutorials.mnist import input_data\n",
        "\n",
        "tf.set_random_seed(777)"
      ],
      "execution_count": 0,
      "outputs": [
        {
          "output_type": "display_data",
          "data": {
            "text/html": [
              "<p style=\"color: red;\">\n",
              "The default version of TensorFlow in Colab will soon switch to TensorFlow 2.x.<br>\n",
              "We recommend you <a href=\"https://www.tensorflow.org/guide/migrate\" target=\"_blank\">upgrade</a> now \n",
              "or ensure your notebook will continue to use TensorFlow 1.x via the <code>%tensorflow_version 1.x</code> magic:\n",
              "<a href=\"https://colab.research.google.com/notebooks/tensorflow_version.ipynb\" target=\"_blank\">more info</a>.</p>\n"
            ],
            "text/plain": [
              "<IPython.core.display.HTML object>"
            ]
          },
          "metadata": {
            "tags": []
          }
        }
      ]
    },
    {
      "cell_type": "code",
      "metadata": {
        "id": "BCvHtPIII_cm",
        "colab_type": "code",
        "outputId": "a9096a99-f9fd-4a8f-8e4c-aa9090b4e0fc",
        "colab": {
          "base_uri": "https://localhost:8080/",
          "height": 35
        }
      },
      "source": [
        "device_name = tf.test.gpu_device_name()\n",
        "if device_name != '/device:GPU:0':\n",
        "  raise SystemError('GPU device not found')\n",
        "print('Found GPU at : {}'.format(device_name))"
      ],
      "execution_count": 0,
      "outputs": [
        {
          "output_type": "stream",
          "text": [
            "Found GPU at : /device:GPU:0\n"
          ],
          "name": "stdout"
        }
      ]
    },
    {
      "cell_type": "code",
      "metadata": {
        "id": "iwJEc4lzLLgc",
        "colab_type": "code",
        "outputId": "51cceb30-f580-44e2-b6b6-4361ddec4d85",
        "colab": {
          "base_uri": "https://localhost:8080/",
          "height": 559
        }
      },
      "source": [
        "mnist = input_data.read_data_sets(\"MNIST_data/\", one_hot=True)\n",
        "\n",
        "learning_rate = 0.001\n",
        "training_epochs = 15\n",
        "batch_size = 100"
      ],
      "execution_count": 0,
      "outputs": [
        {
          "output_type": "stream",
          "text": [
            "WARNING:tensorflow:From <ipython-input-3-1c72ebd49e13>:1: read_data_sets (from tensorflow.contrib.learn.python.learn.datasets.mnist) is deprecated and will be removed in a future version.\n",
            "Instructions for updating:\n",
            "Please use alternatives such as official/mnist/dataset.py from tensorflow/models.\n",
            "WARNING:tensorflow:From /usr/local/lib/python3.6/dist-packages/tensorflow_core/contrib/learn/python/learn/datasets/mnist.py:260: maybe_download (from tensorflow.contrib.learn.python.learn.datasets.base) is deprecated and will be removed in a future version.\n",
            "Instructions for updating:\n",
            "Please write your own downloading logic.\n",
            "WARNING:tensorflow:From /usr/local/lib/python3.6/dist-packages/tensorflow_core/contrib/learn/python/learn/datasets/base.py:252: _internal_retry.<locals>.wrap.<locals>.wrapped_fn (from tensorflow.contrib.learn.python.learn.datasets.base) is deprecated and will be removed in a future version.\n",
            "Instructions for updating:\n",
            "Please use urllib or similar directly.\n",
            "Successfully downloaded train-images-idx3-ubyte.gz 9912422 bytes.\n",
            "WARNING:tensorflow:From /usr/local/lib/python3.6/dist-packages/tensorflow_core/contrib/learn/python/learn/datasets/mnist.py:262: extract_images (from tensorflow.contrib.learn.python.learn.datasets.mnist) is deprecated and will be removed in a future version.\n",
            "Instructions for updating:\n",
            "Please use tf.data to implement this functionality.\n",
            "Extracting MNIST_data/train-images-idx3-ubyte.gz\n",
            "Successfully downloaded train-labels-idx1-ubyte.gz 28881 bytes.\n",
            "WARNING:tensorflow:From /usr/local/lib/python3.6/dist-packages/tensorflow_core/contrib/learn/python/learn/datasets/mnist.py:267: extract_labels (from tensorflow.contrib.learn.python.learn.datasets.mnist) is deprecated and will be removed in a future version.\n",
            "Instructions for updating:\n",
            "Please use tf.data to implement this functionality.\n",
            "Extracting MNIST_data/train-labels-idx1-ubyte.gz\n",
            "WARNING:tensorflow:From /usr/local/lib/python3.6/dist-packages/tensorflow_core/contrib/learn/python/learn/datasets/mnist.py:110: dense_to_one_hot (from tensorflow.contrib.learn.python.learn.datasets.mnist) is deprecated and will be removed in a future version.\n",
            "Instructions for updating:\n",
            "Please use tf.one_hot on tensors.\n",
            "Successfully downloaded t10k-images-idx3-ubyte.gz 1648877 bytes.\n",
            "Extracting MNIST_data/t10k-images-idx3-ubyte.gz\n",
            "Successfully downloaded t10k-labels-idx1-ubyte.gz 4542 bytes.\n",
            "Extracting MNIST_data/t10k-labels-idx1-ubyte.gz\n",
            "WARNING:tensorflow:From /usr/local/lib/python3.6/dist-packages/tensorflow_core/contrib/learn/python/learn/datasets/mnist.py:290: DataSet.__init__ (from tensorflow.contrib.learn.python.learn.datasets.mnist) is deprecated and will be removed in a future version.\n",
            "Instructions for updating:\n",
            "Please use alternatives such as official/mnist/dataset.py from tensorflow/models.\n"
          ],
          "name": "stdout"
        }
      ]
    },
    {
      "cell_type": "code",
      "metadata": {
        "id": "zClJgYa0LfC1",
        "colab_type": "code",
        "outputId": "3935f5dc-bd10-4e05-d2e6-bd8b65a46232",
        "colab": {
          "base_uri": "https://localhost:8080/",
          "height": 948
        }
      },
      "source": [
        "class Model:\n",
        "  def __init__(self, sess, name):\n",
        "    self.sess = sess\n",
        "    self.name = name\n",
        "    self._build_net()\n",
        "\n",
        "  def _build_net(self):\n",
        "    with tf.device('/device:GPU:0'):\n",
        "      with tf.variable_scope(self.name):\n",
        "        #dropout rate(keep_prob) 0.7 ~0.5 on training, but should be 1 for testing\n",
        "        self.training = tf.placeholder(tf.bool)\n",
        "        # input X = 28x28x1 = 784\n",
        "        self.X = tf.placeholder(tf.float32, [None, 784])\n",
        "\n",
        "        #image 28x28x1 \n",
        "        X_img = tf.reshape(self.X, [-1,28,28,1])\n",
        "        self.Y = tf.placeholder(tf.float32, [None, 10])\n",
        "\n",
        "        #convolution layer #1\n",
        "        conv1 = tf.layers.conv2d(inputs=X_img, filters=32, kernel_size=[3,3], padding=\"SAME\", activation=tf.nn.relu)\n",
        "\n",
        "        #Pooling Layer #1\n",
        "        pool1 = tf.layers.max_pooling2d(inputs=conv1, pool_size=[2,2], padding=\"SAME\", strides=2)\n",
        "\n",
        "        dropout1 = tf.layers.dropout(inputs=pool1, rate=0.3, training=self.training)\n",
        "\n",
        "        #convolution layer #2\n",
        "        conv2 = tf.layers.conv2d(inputs=dropout1, filters=64, kernel_size=[3,3], padding=\"SAME\", activation=tf.nn.relu)\n",
        "\n",
        "        pool2 = tf.layers.max_pooling2d(inputs=conv2, pool_size=[2,2], padding=\"SAME\", strides=2)\n",
        "        dropout2 = tf.layers.dropout(inputs=pool2, rate=0.3, training=self.training)\n",
        "\n",
        "        #convolution layer #3\n",
        "        conv3 = tf.layers.conv2d(inputs=dropout2, filters=128, kernel_size=[3,3], padding=\"SAME\", activation=tf.nn.relu)\n",
        "        pool3 = tf.layers.max_pooling2d(inputs=conv3, pool_size=[2,2], padding=\"SAME\", strides=2)\n",
        "        dropout3 = tf.layers.dropout(inputs=pool3, rate=0.3, training=self.training)\n",
        "\n",
        "        # FC layer\n",
        "        flat = tf.reshape(dropout3, [-1, 128*4*4])\n",
        "        dense4 = tf.layers.dense(inputs=flat, units=625, activation=tf.nn.relu)\n",
        "        dropout4 = tf.layers.dropout(inputs=dense4, rate=0.5, training=self.training)\n",
        "\n",
        "        # Logits layer FC 625 -> 10 outputs\n",
        "        self.logits = tf.layers.dense(inputs=dropout4, units=10)\n",
        "\n",
        "      # define cost/loss & optimizer\n",
        "      self.cost = tf.reduce_mean(tf.nn.softmax_cross_entropy_with_logits(logits=self.logits, labels=self.Y))\n",
        "      self.optimizer = tf.train.AdamOptimizer(learning_rate=learning_rate).minimize(self.cost)\n",
        "\n",
        "      correct_prediction = tf.equal(tf.argmax(self.logits, 1), tf.argmax(self.Y, 1))\n",
        "      self.accuracy = tf.reduce_mean(tf.cast(correct_prediction, tf.float32))\n",
        "\n",
        "  def predict(self, x_test, training=False):\n",
        "    with tf.device('device:GPU:0'):\n",
        "      return self.sess.run(self.logits, feed_dict={self.X: x_test, self.training: training})\n",
        "\n",
        "  def get_accuracy(self, x_test, y_test, training=False):\n",
        "    with tf.device('device:GPU:0'):\n",
        "      return self.sess.run(self.accuracy, feed_dict={self.X: x_test, self.Y: y_test, self.training: training})\n",
        "\n",
        "  def train(self, x_data, y_data, training=True):\n",
        "    with tf.device('device:GPU:0'):\n",
        "      return self.sess.run([self.cost,self.optimizer], feed_dict={self.X: x_data, self.Y: y_data, self.training: training})\n",
        "\n",
        "#initialize\n",
        "sess = tf.Session()\n",
        "m1 = Model(sess, \"m1\")                               \n",
        "\n",
        "sess.run(tf.global_variables_initializer())\n",
        "\n",
        "print(\"Learning Started\")\n",
        "\n",
        "for epoch in range(training_epochs):\n",
        "  avg_cost = 0\n",
        "  total_batch = int(mnist.train.num_examples / batch_size)\n",
        "\n",
        "  for i in range(total_batch):\n",
        "    batch_xs, batch_ys = mnist.train.next_batch(batch_size)\n",
        "    c, _ = m1.train(batch_xs, batch_ys)\n",
        "    avg_cost += c / total_batch\n",
        "  \n",
        "  print('Epoch:', '%04d' % (epoch + 1), 'cost=','{:.9f}'.format(avg_cost))\n",
        "\n",
        "print('Learning Finished')\n",
        "\n",
        "\n"
      ],
      "execution_count": 0,
      "outputs": [
        {
          "output_type": "stream",
          "text": [
            "WARNING:tensorflow:From <ipython-input-4-9b3bf66a97fb>:20: conv2d (from tensorflow.python.layers.convolutional) is deprecated and will be removed in a future version.\n",
            "Instructions for updating:\n",
            "Use `tf.keras.layers.Conv2D` instead.\n",
            "WARNING:tensorflow:From /usr/local/lib/python3.6/dist-packages/tensorflow_core/python/layers/convolutional.py:424: Layer.apply (from tensorflow.python.keras.engine.base_layer) is deprecated and will be removed in a future version.\n",
            "Instructions for updating:\n",
            "Please use `layer.__call__` method instead.\n",
            "WARNING:tensorflow:From <ipython-input-4-9b3bf66a97fb>:23: max_pooling2d (from tensorflow.python.layers.pooling) is deprecated and will be removed in a future version.\n",
            "Instructions for updating:\n",
            "Use keras.layers.MaxPooling2D instead.\n",
            "WARNING:tensorflow:From <ipython-input-4-9b3bf66a97fb>:25: dropout (from tensorflow.python.layers.core) is deprecated and will be removed in a future version.\n",
            "Instructions for updating:\n",
            "Use keras.layers.dropout instead.\n",
            "WARNING:tensorflow:From <ipython-input-4-9b3bf66a97fb>:40: dense (from tensorflow.python.layers.core) is deprecated and will be removed in a future version.\n",
            "Instructions for updating:\n",
            "Use keras.layers.Dense instead.\n",
            "WARNING:tensorflow:From <ipython-input-4-9b3bf66a97fb>:47: softmax_cross_entropy_with_logits (from tensorflow.python.ops.nn_ops) is deprecated and will be removed in a future version.\n",
            "Instructions for updating:\n",
            "\n",
            "Future major versions of TensorFlow will allow gradients to flow\n",
            "into the labels input on backprop by default.\n",
            "\n",
            "See `tf.nn.softmax_cross_entropy_with_logits_v2`.\n",
            "\n",
            "Learning Started\n",
            "Epoch: 0001 cost= 0.282718426\n",
            "Epoch: 0002 cost= 0.085957146\n",
            "Epoch: 0003 cost= 0.067072744\n",
            "Epoch: 0004 cost= 0.056045064\n",
            "Epoch: 0005 cost= 0.049121193\n",
            "Epoch: 0006 cost= 0.044195341\n",
            "Epoch: 0007 cost= 0.041134759\n",
            "Epoch: 0008 cost= 0.038912829\n",
            "Epoch: 0009 cost= 0.035223572\n",
            "Epoch: 0010 cost= 0.032629736\n",
            "Epoch: 0011 cost= 0.032443954\n",
            "Epoch: 0012 cost= 0.030733159\n",
            "Epoch: 0013 cost= 0.030296249\n",
            "Epoch: 0014 cost= 0.027150772\n",
            "Epoch: 0015 cost= 0.027185443\n",
            "Learning Finished\n"
          ],
          "name": "stdout"
        },
        {
          "output_type": "error",
          "ename": "TypeError",
          "evalue": "ignored",
          "traceback": [
            "\u001b[0;31m---------------------------------------------------------------------------\u001b[0m",
            "\u001b[0;31mTypeError\u001b[0m                                 Traceback (most recent call last)",
            "\u001b[0;32m<ipython-input-4-9b3bf66a97fb>\u001b[0m in \u001b[0;36m<module>\u001b[0;34m()\u001b[0m\n\u001b[1;32m     84\u001b[0m \u001b[0mprint\u001b[0m\u001b[0;34m(\u001b[0m\u001b[0;34m'Learning Finished'\u001b[0m\u001b[0;34m)\u001b[0m\u001b[0;34m\u001b[0m\u001b[0;34m\u001b[0m\u001b[0m\n\u001b[1;32m     85\u001b[0m \u001b[0;34m\u001b[0m\u001b[0m\n\u001b[0;32m---> 86\u001b[0;31m \u001b[0mprint\u001b[0m\u001b[0;34m(\u001b[0m\u001b[0;34m'Accuracy:'\u001b[0m\u001b[0;34m,\u001b[0m \u001b[0mm1\u001b[0m\u001b[0;34m.\u001b[0m\u001b[0mget_accuracy\u001b[0m\u001b[0;34m(\u001b[0m\u001b[0mmnist\u001b[0m\u001b[0;34m.\u001b[0m\u001b[0mtest\u001b[0m\u001b[0;34m.\u001b[0m\u001b[0mimages\u001b[0m\u001b[0;34m)\u001b[0m\u001b[0;34m)\u001b[0m\u001b[0;34m\u001b[0m\u001b[0;34m\u001b[0m\u001b[0m\n\u001b[0m",
            "\u001b[0;31mTypeError\u001b[0m: get_accuracy() missing 1 required positional argument: 'y_test'"
          ]
        }
      ]
    },
    {
      "cell_type": "code",
      "metadata": {
        "id": "bBzLvaNLJ2yC",
        "colab_type": "code",
        "outputId": "4fa8b953-7952-46d7-a3d2-3d35e71bcb3d",
        "colab": {
          "base_uri": "https://localhost:8080/",
          "height": 35
        }
      },
      "source": [
        "print('Accuracy:', m1.get_accuracy(mnist.test.images, mnist.test.labels))"
      ],
      "execution_count": 0,
      "outputs": [
        {
          "output_type": "stream",
          "text": [
            "Accuracy: 0.9937\n"
          ],
          "name": "stdout"
        }
      ]
    },
    {
      "cell_type": "code",
      "metadata": {
        "id": "V9E1IBFDkrZO",
        "colab_type": "code",
        "outputId": "e9e75b6b-15f1-4402-d2f7-95bb8835b937",
        "colab": {
          "base_uri": "https://localhost:8080/",
          "height": 301
        }
      },
      "source": [
        "import matplotlib.pyplot as plt\n",
        "import random\n",
        "%matplotlib inline\n",
        "training = 0\n",
        "\n",
        "r = random.randint(0, mnist.test.num_examples - 1)\n",
        "print(\"Label: \", sess.run(tf.argmax(mnist.test.labels[r:r + 1], 1)))\n",
        "print(\"Prediction: \", sess.run(tf.argmax(m1.logits, 1), feed_dict={m1.X: mnist.test.images[r:r + 1], m1.training: training}))\n",
        "\n",
        "plt.imshow(mnist.test.images[r:r + 1].reshape(28, 28), cmap='Greys', interpolation='nearest')\n",
        "plt.show()"
      ],
      "execution_count": 0,
      "outputs": [
        {
          "output_type": "stream",
          "text": [
            "Label:  [0]\n",
            "Prediction:  [0]\n"
          ],
          "name": "stdout"
        },
        {
          "output_type": "display_data",
          "data": {
            "image/png": "[encoded data removed]",
            "text/plain": [
              "<Figure size 432x288 with 1 Axes>"
            ]
          },
          "metadata": {
            "tags": []
          }
        }
      ]
    },
    {
      "cell_type": "code",
      "metadata": {
        "id": "dLov9LqulOKt",
        "colab_type": "code",
        "colab": {}
      },
      "source": [
        " "
      ],
      "execution_count": 0,
      "outputs": []
    }
  ]
}