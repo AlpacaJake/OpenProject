{
  "nbformat": 4,
  "nbformat_minor": 0,
  "metadata": {
    "colab": {
      "name": "RANSAC.ipynb",
      "provenance": [],
      "collapsed_sections": [],
      "include_colab_link": true
    },
    "kernelspec": {
      "name": "python3",
      "display_name": "Python 3"
    }
  },
  "cells": [
    {
      "cell_type": "markdown",
      "metadata": {
        "id": "view-in-github",
        "colab_type": "text"
      },
      "source": [
        "<a href=\"https://colab.research.google.com/github/AlpacaJake/OpenProject/blob/master/RANSAC.ipynb\" target=\"_parent\"><img src=\"https://colab.research.google.com/assets/colab-badge.svg\" alt=\"Open In Colab\"/></a>"
      ]
    },
    {
      "cell_type": "markdown",
      "metadata": {
        "id": "p9m6tonnmp_i",
        "colab_type": "text"
      },
      "source": [
        "RANSAC"
      ]
    },
    {
      "cell_type": "code",
      "metadata": {
        "id": "IireT1I_ml0D",
        "colab_type": "code",
        "colab": {}
      },
      "source": [
        "import numpy as np\n",
        "import matplotlib\n",
        "import matplotlib.pyplot as plt\n"
      ],
      "execution_count": 0,
      "outputs": []
    },
    {
      "cell_type": "markdown",
      "metadata": {
        "id": "mHMPEIUWWgU9",
        "colab_type": "text"
      },
      "source": [
        "- N 반복횟수 최적화 (inlier 비율을 알고 있을때)\n",
        "\n",
        "    N : 반복횟수\n",
        "\n",
        "    m : 한번에 뽑는 sample 수\n",
        "\n",
        "    a : observation들 중 inlier 의 비율\n",
        "\n",
        "- N 번중 적어도 한번은 inlier 에서만 뽑힐 확률 p \n",
        "\n",
        "    p = 1 -(1 - a^m]^N\n",
        "\n",
        "    N = log(1 - p) / log(1 - a^m)\n",
        "\n",
        "- RANSAC 성공할 확률 p 가 99.9% 이면 p = 0.999\n",
        "\n",
        "    a 는 20% 의 noise 를 주었으므로 0.8\n",
        "\n",
        "    m 은 세개씩 sample 을 뽑았으므로 3\n",
        "\n",
        "- N = log(1 - 0.999) / log(1 - 0.8^3) = 9.6283  으로 10 회 반복하면 된다."
      ]
    },
    {
      "cell_type": "code",
      "metadata": {
        "id": "tSR4bV9Kmptu",
        "colab_type": "code",
        "colab": {
          "base_uri": "https://localhost:8080/",
          "height": 259
        },
        "outputId": "c1c8f8fc-b2a2-4a04-ba06-18af00d63127"
      },
      "source": [
        "a_true = -1\n",
        "b_true = 8\n",
        "c_true =1\n",
        "num_samples = 100\n",
        "\n",
        "success_p = 0.999 # RANSAC 성공 확률  99.9%\n",
        "observation_inlier = 0.8  # observation 중 inlier 의 비율 (bad data 가 20% 이므로 0.8)\n",
        "onetime_sample_num = 3.0   # 한번에 뽑는 sample 수\n",
        "\n",
        "trial_N = np.log(1-success_p) / np.log(1- pow(observation_inlier, onetime_sample_num))\n",
        "trial_N = np.int(np.around(trial_N)) # 반올림 정수\n",
        "print(trial_N)\n",
        "\n",
        "def good_data(sigma=1, num_samples=100):\n",
        "  x = np.linspace(0.0, 10.0, num=num_samples)\n",
        "  y = a_true * x * x + b_true * x + c_true + np.random.normal(0, sigma, num_samples)\n",
        "  return x, y\n",
        "\n",
        "def bad_data(sigma=1, num_samples=100):\n",
        "  x = np.linspace(0.0, 10.0, num_samples)\n",
        "  #noise 생성\n",
        "  noise = np.zeros(num_samples)\n",
        "  x_left_idx = x > 4 \n",
        "  x_right_idx = x < 6\n",
        "  x_idx = x_left_idx & x_right_idx \n",
        "  noise[x_idx] = -10\n",
        "\n",
        "  y = a_true *x *x + b_true *x + c_true + np.random.normal(0, sigma, num_samples) + noise\n",
        "\n",
        "  return x, y\n",
        "\n",
        "x_good , y_good = good_data(num_samples = num_samples)\n",
        "x_bad, y_bad = bad_data(num_samples = num_samples)\n",
        "\n",
        "plt.figure(1, figsize=(8,3))\n",
        "plt.subplot(121)\n",
        "\n",
        "plt.scatter(x_good, y_good)\n",
        "plt.title('good data')\n",
        "plt.xlabel('x')\n",
        "plt.ylabel('y')\n",
        "\n",
        "plt.subplot(122)\n",
        "plt.scatter(x_bad, y_bad)\n",
        "plt.title('bad data')\n",
        "#plt.annotate ('noise', fontsize=20, xy=(4, y_bad[int(num_samples/10)*4]), xytest=(8,2), arrowprops=dict(facecolor='red', shrink=0.05))\n",
        "plt.annotate('noise',  # noise 낀 곳을 표시\n",
        "             fontsize=20,\n",
        "             xy=(4, y_bad[int(num_samples/10)*4]),\n",
        "             xytext=(8, 2),\n",
        "             arrowprops=dict(facecolor='red', shrink=0.05))\n",
        "\n",
        "plt.xlabel('x')\n",
        "plt.ylabel('y')\n",
        "\n",
        "plt.show()"
      ],
      "execution_count": 71,
      "outputs": [
        {
          "output_type": "stream",
          "text": [
            "10\n"
          ],
          "name": "stdout"
        },
        {
          "output_type": "display_data",
          "data": {
            "image/png": "[encoded data removed]",
            "text/plain": [
              "<Figure size 576x216 with 2 Axes>"
            ]
          },
          "metadata": {
            "tags": []
          }
        }
      ]
    },
    {
      "cell_type": "code",
      "metadata": {
        "id": "qVsX6TOepeKN",
        "colab_type": "code",
        "colab": {
          "base_uri": "https://localhost:8080/",
          "height": 241
        },
        "outputId": "cb8c7aea-3a62-4ce1-b142-3741d7df0afe"
      },
      "source": [
        "def get_y(x, a, b, c):\n",
        "  return a*x*x + b*x + c\n",
        "\n",
        "a1, b1, c1 = np.polyfit(x_good, y_good, 2)\n",
        "y_good_pred = get_y(x_good, a1, b1, c1)\n",
        "\n",
        "a2, b2, c2 = np.polyfit(x_bad, y_bad, 2)\n",
        "y_bad_pred = get_y(x_bad, a2, b2, c2)\n",
        "\n",
        "plt.figure(1, figsize=(8,3))\n",
        "plt.subplot(121)\n",
        "\n",
        "plt.scatter(x_good, y_good)\n",
        "plt.plot(x_good, y_good_pred, 'r')\n",
        "plt.title('good data pred')\n",
        "plt.xlabel('x')\n",
        "plt.ylabel('y')\n",
        "\n",
        "plt.subplot(122)\n",
        "plt.scatter(x_bad, y_bad)\n",
        "plt.plot(x_bad, y_bad_pred, 'r')\n",
        "plt.title('bad data pred')\n",
        "plt.show()"
      ],
      "execution_count": 72,
      "outputs": [
        {
          "output_type": "display_data",
          "data": {
            "image/png": "[encoded data removed]",
            "text/plain": [
              "<Figure size 576x216 with 2 Axes>"
            ]
          },
          "metadata": {
            "tags": []
          }
        }
      ]
    },
    {
      "cell_type": "markdown",
      "metadata": {
        "id": "d2c0Oqhd48UD",
        "colab_type": "text"
      },
      "source": [
        "1. max_inlier = 0으로 초기화한다.\n",
        "2. 무작위로 세 점을 뽑는다.(parameter를 만들 때 필요한 최소 갯수의 observation)\n",
        "3. 2에서 뽑은 점으로 model을 만든다 = parameter setting\n",
        "4. 3에서 만든 모델에서 예측한 값과 일정 threshold안에 있는 inlier들의 갯수를 센다.\n",
        "5. 4에서 센 갯수가 max_inlier보다 크면 max_inlier를 갱신하고, model을 저장한다.\n",
        "6. 2~5를 N번 반복한 후 최종 저장된 model을 바노한한다.\n",
        "7. (optional) 최종 inlier로 뽑힌 애들로 model을 refine한다."
      ]
    },
    {
      "cell_type": "code",
      "metadata": {
        "id": "Ky9U4IUd38RE",
        "colab_type": "code",
        "colab": {}
      },
      "source": [
        "def RANSAC(x, y, threshold = 0.3, N = trial_N):\n",
        "  #(1) max_inlier = 0 으로 초기화 한다.\n",
        "  max_inlier = 0\n",
        "  a, b, c = 0, 0, 0\n",
        "  inlier = None \n",
        "\n",
        "  #(6) 2 ~ 5 를 N 번 반복한 후 최종 저장된 model을 반환한다.\n",
        "  for i in range(N):\n",
        "    #(2) 무작위로 세점을 뽑는다. (parameter를 만들때 필요한 최소 갯수의 observation)\n",
        "    samples = np.random.uniform(0, num_samples, 3)\n",
        "#    print('random samples: ', samples)\n",
        "    # 세개의 random 값을 int 로 변환\n",
        "    samples = [int(sample) for sample in samples]\n",
        "#    print('int samples: ', samples)\n",
        "    # Random한 세점에 대한 x 값과 y 값 \n",
        "    x_sampled = x[samples]\n",
        "    y_sampled = y[samples]\n",
        "#    print('x_sampled: ', x_sampled)\n",
        "#    print('y_sampled: ', y_sampled)\n",
        "\n",
        "    #(3) 2에서 뽑은 점으로 model 을 만든다\n",
        "    # x, y sampled 세점에 대한 2차 방정식의 세 개수 a*x*x + b*x + c\n",
        "    a_tmp, b_tmp, c_tmp = np.polyfit(x_sampled, y_sampled, 2)\n",
        "#    print(a_tmp, b_tmp, c_tmp)\n",
        "    # 세개의 random sample 로 추측한 모델로 전체 x 에 대한 y prediction 을 구함\n",
        "    y_pred = get_y(x, a_tmp, b_tmp, c_tmp)\n",
        "#    print('y_pred: ', y_pred)\n",
        "\n",
        "    #(4) 3에서 만든 모델에서 예측한 값과 일정 threshold 안에 있는 inlier 들의 갯수를 센다.\n",
        "    # y prediction 과 y 의 차가 threshold 이하인 것들을 구함 [ture, false ... ]\n",
        "    tmp_inlier = abs(y_pred - y) < threshold\n",
        "#    print('x[tmp_inlier]: ', x[tmp_inlier])\n",
        "    # true 인 점에 대한 x 값의 개수를 구함\n",
        "    count_inlier = len(x[tmp_inlier])\n",
        "\n",
        "    #(5) 4에서 센 갯수가 max_inlier보다 크면 max_inlier를 갱신하고, model을 저장한다.\n",
        "    if count_inlier > max_inlier:\n",
        "      # 기존 max_inlier 보다 큰값을 저장\n",
        "      max_inlier = count_inlier\n",
        "      inlier = tmp_inlier \n",
        "      # 2차 방정식의 세 개수를 저장\n",
        "      a, b, c = a_tmp, b_tmp, c_tmp \n",
        "      print('max_inlier', max_inlier)\n",
        "      \n",
        "  \n",
        "  #(7) (optional) 최종 inlier로 뽑힌 애들로 model을 refine한다\n",
        "  a, b, c = np.polyfit(x[inlier], y[inlier], 2)\n",
        "  print('a: ', a, 'b: ', b, 'c: ', c)\n",
        "  # 가장 잘 추정하는 2차 방정식의 세 개수를 return\n",
        "  return a, b, c\n",
        "\n"
      ],
      "execution_count": 0,
      "outputs": []
    },
    {
      "cell_type": "code",
      "metadata": {
        "id": "aCLmGPJI6_0U",
        "colab_type": "code",
        "colab": {
          "base_uri": "https://localhost:8080/",
          "height": 403
        },
        "outputId": "3b1433ee-097f-42f2-b76a-61184b26db9d"
      },
      "source": [
        "a_good, b_good, c_good = RANSAC(x_good, y_good)\n",
        "a_bad, b_bad, c_bad = RANSAC(x_bad, y_bad)\n",
        "\n",
        "y_good_pred = get_y(x_good, a_good, b_good, c_good)\n",
        "y_bad_pred = get_y(x_bad, a_bad, b_bad, c_bad)\n",
        "\n",
        "plt.figure(1, figsize=(8,3))\n",
        "plt.subplot(121)\n",
        "\n",
        "plt.scatter(x_good, y_good)\n",
        "plt.plot(x_good, y_good_pred, 'r')\n",
        "plt.title('good data pred')\n",
        "plt.xlabel('x')\n",
        "plt.ylabel('y')\n",
        "\n",
        "plt.subplot(122)\n",
        "plt.scatter(x_bad, y_bad)\n",
        "plt.plot(x_bad, y_bad_pred, 'r')\n",
        "plt.title('bad data pred')\n",
        "plt.show()"
      ],
      "execution_count": 76,
      "outputs": [
        {
          "output_type": "stream",
          "text": [
            "max_inlier 11\n",
            "max_inlier 18\n",
            "a:  -0.9980160031775618 b:  7.583520216056042 c:  3.0842930570673666\n",
            "max_inlier 12\n",
            "max_inlier 19\n",
            "max_inlier 22\n",
            "a:  -1.1781164390004362 b:  9.762953879211429 c:  -1.648635984376052\n"
          ],
          "name": "stdout"
        },
        {
          "output_type": "stream",
          "text": [
            "/usr/local/lib/python3.6/dist-packages/ipykernel_launcher.py:2: RankWarning: Polyfit may be poorly conditioned\n",
            "  \n"
          ],
          "name": "stderr"
        },
        {
          "output_type": "display_data",
          "data": {
            "image/png": "[encoded data removed]",
            "text/plain": [
              "<Figure size 576x216 with 2 Axes>"
            ]
          },
          "metadata": {
            "tags": []
          }
        }
      ]
    },
    {
      "cell_type": "code",
      "metadata": {
        "id": "tYPZKB5Q70wk",
        "colab_type": "code",
        "colab": {}
      },
      "source": [
        ""
      ],
      "execution_count": 0,
      "outputs": []
    }
  ]
}