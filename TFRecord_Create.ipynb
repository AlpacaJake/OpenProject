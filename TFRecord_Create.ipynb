{
  "nbformat": 4,
  "nbformat_minor": 0,
  "metadata": {
    "colab": {
      "name": "TFRecord_Create.ipynb",
      "provenance": [],
      "collapsed_sections": [],
      "include_colab_link": true
    },
    "kernelspec": {
      "name": "python3",
      "display_name": "Python 3"
    }
  },
  "cells": [
    {
      "cell_type": "markdown",
      "metadata": {
        "id": "view-in-github",
        "colab_type": "text"
      },
      "source": [
        "<a href=\"https://colab.research.google.com/github/AlpacaJake/OpenProject/blob/master/TFRecord_Create.ipynb\" target=\"_parent\"><img src=\"https://colab.research.google.com/assets/colab-badge.svg\" alt=\"Open In Colab\"/></a>"
      ]
    },
    {
      "cell_type": "markdown",
      "metadata": {
        "id": "-8AuCQbnLOSD",
        "colab_type": "text"
      },
      "source": [
        "TF Record file creation"
      ]
    },
    {
      "cell_type": "code",
      "metadata": {
        "id": "VcO7O1RnLIWA",
        "colab_type": "code",
        "colab": {
          "base_uri": "https://localhost:8080/",
          "height": 64
        },
        "outputId": "c0334273-7c8b-4702-e338-3fade1b94982"
      },
      "source": [
        "import os\n",
        "import numpy as np\n",
        "from PIL import Image\n",
        "import tensorflow as tf"
      ],
      "execution_count": 1,
      "outputs": [
        {
          "output_type": "display_data",
          "data": {
            "text/html": [
              "<p style=\"color: red;\">\n",
              "The default version of TensorFlow in Colab will soon switch to TensorFlow 2.x.<br>\n",
              "We recommend you <a href=\"https://www.tensorflow.org/guide/migrate\" target=\"_blank\">upgrade</a> now \n",
              "or ensure your notebook will continue to use TensorFlow 1.x via the <code>%tensorflow_version 1.x</code> magic:\n",
              "<a href=\"https://colab.research.google.com/notebooks/tensorflow_version.ipynb\" target=\"_blank\">more info</a>.</p>\n"
            ],
            "text/plain": [
              "<IPython.core.display.HTML object>"
            ]
          },
          "metadata": {
            "tags": []
          }
        }
      ]
    },
    {
      "cell_type": "code",
      "metadata": {
        "id": "rCbGVUqULZqe",
        "colab_type": "code",
        "colab": {}
      },
      "source": [
        "def _int64_feature(value):\n",
        "  \"\"\" Wrapper for inserting int64 features into Example proto. \"\"\"\n",
        "  if not isinstance(value, list):\n",
        "    value = [value]\n",
        "  return tf.train.Feature(int64_list=tf.train.Int64List(value=value))\n",
        "\n",
        "def _float_feature(value):\n",
        "  \"\"\"Wrapper for inserting float features into Example proto.\"\"\"\n",
        "  if not isinstance(value, list):\n",
        "    value = [value]\n",
        "  return tf.train.Feature(float_list=tf.train.FloatList(value=value))\n",
        "\n",
        "def _byte_feature(value):\n",
        "  \"\"\"Wrapper for inserting bytes features into Example proto.\"\"\"\n",
        "  if not isinstance(value, list):\n",
        "    value = [value]\n",
        "  return tf.train.Feature(bytes_list = tf.train.BytesList(value=value))\n",
        "\n",
        "def _validate_text(text):\n",
        "  \"\"\"if text is not str or unicode, then try to convert it to str.\"\"\"\n",
        "  if isinstance(text, str):\n",
        "    return text\n",
        "  elif isinstance(text, 'unicode'):\n",
        "    return text.encode('utf8', 'ignore')\n",
        "  else :\n",
        "    return str(text)\n",
        "  \n",
        "def to_tfrecords(image_list, label_list, tfrecords_name):\n",
        "  print('Start converting')\n",
        "  options = tf.python_io.TFRecordOptions(tf.python_io.TFRecordCompressionType.GZIP)\n",
        "  writer = tf.python_io.TFRecordWriter(path=tfrecords_name, options=options)\n",
        "\n",
        "  for image_path, label_path in zip(image_list, label_list):\n",
        "    image = Image.open(image_path)\n",
        "    label = Image.open(label_path)\n",
        "    _binary_image = image.tostring()\n",
        "    _binary_label = label.tostring()\n",
        "    filename = os.path.basename(image_path)\n",
        "\n",
        "    string_set = tf.train.Example(features=tf.train.Features(feature={\n",
        "        'height': _int64_feature(image.shape[0]),\n",
        "        'width' : _int64_feature(image.shape[1]),\n",
        "        'Image' : _byte_feature(_binary_image),\n",
        "        'Label' : _byte_feature(_binary_label),\n",
        "        'mean' : _float_feature(image.mean().astype(np.float32)),\n",
        "        'std' : _float_feature(image.std().astype(np.float32)),\n",
        "        'filename' : _byte_feature(str.encode(filename))\n",
        "    }))\n",
        "\n",
        "    writer.write(string_set.SerializeToString())\n",
        "\n",
        "  writer.close()\n"
      ],
      "execution_count": 0,
      "outputs": []
    },
    {
      "cell_type": "code",
      "metadata": {
        "id": "9EQaHu4NPUUU",
        "colab_type": "code",
        "colab": {}
      },
      "source": [
        "# TFRecord file read\n",
        "\n",
        "def readRecord(filename_queue):\n",
        "  reader = tf.TFRecordReader()\n",
        "  _, serialized_example = reader.read(filename_queue)\n",
        "\n",
        "  keys_to_features = {\n",
        "      'height' : tf.FixedLenFeature((), tf.int64, 1),\n",
        "      'width' : tf.FixedLenFeature((), tf.int64, 1),\n",
        "      'Image' : tf.FixedLenFeature((), tf.string, default_value=''),\n",
        "      'Label' : tf.FixedLenFeature((), tf.string, default_value=''),\n",
        "      'mean' : tf.FixedLenFeature((), tf.float32, 1),\n",
        "      'std' : tf.FixedLenFeature((), tf.float32, 1),\n",
        "      'filename' : tf.FixedLenFeature((), tf.string, default_value='')\n",
        "  }\n",
        "\n",
        "  features = tf.parse_single_example(serialized_example, features=keys_to_features)\n",
        "\n",
        "  height = tf.cast(features['height'], tf.int64)\n",
        "  width = tf.cast(features['width'], tf.int64)\n",
        "  Image = tf.cast(features['Image'], tf.string)\n",
        "  Label = tf.cast(features['Label'], tf.string)\n",
        "  mean = tf.cast(features['mean'], tf.float32)\n",
        "  std = tf.cast(features['std'], tf.float32)\n",
        "  filename = tf.cast(features['filename'], tf.string)\n",
        "\n",
        "  return height, width, Image, Label, mean, std, filename"
      ],
      "execution_count": 0,
      "outputs": []
    },
    {
      "cell_type": "code",
      "metadata": {
        "id": "qJPwDPH1S4bw",
        "colab_type": "code",
        "colab": {}
      },
      "source": [
        ""
      ],
      "execution_count": 0,
      "outputs": []
    }
  ]
}